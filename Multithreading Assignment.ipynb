{
 "cells": [
  {
   "cell_type": "code",
   "execution_count": 1,
   "id": "78ba6974-30f0-47fa-b83d-4417df183acd",
   "metadata": {},
   "outputs": [
    {
     "data": {
      "text/plain": [
       "'- multithreading in python used to execute multiple threads (instructuions of program) concurrently. \\nthe module used to handle threads in python - import threading '"
      ]
     },
     "execution_count": 1,
     "metadata": {},
     "output_type": "execute_result"
    }
   ],
   "source": [
    "## 1)what is multithreading in python? why is it used? Name the module used to handle threads in python\n",
    "'''- multithreading in python used to execute multiple threads (instructuions of program which are scheduled to run) concurrently. \n",
    "the module used to handle threads in python - import threading '''"
   ]
  },
  {
   "cell_type": "code",
   "execution_count": null,
   "id": "ef5a09a4-a557-42e9-b8a9-22c1a3f6ab14",
   "metadata": {},
   "outputs": [],
   "source": [
    "##2).why threading module used? write the use of the following functions\n",
    "''' 1) activeCount\n",
    "2) currentThread\n",
    "3) enumerate -  '''\n",
    "\n",
    "- threading module used to imply threading function\n",
    "1) activeCount  - It is used to cound currently active or running thread (multithreading.active_count())\n",
    "2) current_thread - it is used to return the current Thread object, which corresponds to the caller's thread of control.\n",
    "3) enumerate - it can be used for loops . It requires iterable object and a start index. "
   ]
  },
  {
   "cell_type": "code",
   "execution_count": null,
   "id": "014be82c-41e5-4e57-bbae-8cbd25754c1f",
   "metadata": {},
   "outputs": [],
   "source": [
    "##3). Explain the following functions\n",
    "1) run() - The .run() method executes any target function belonging to a given thread object that is now active. \n",
    "It normally executes in the background after the .start() method is invoked.\n",
    "2) start() - The .start() method activates and prompts a thread object to be run.\n",
    "3) join() - The .join() method delays a program’s flow of execution until the target thread has been completely read\n",
    "4) isAlive)() - The .join() method delays a program’s flow of execution until the target thread has been completely read"
   ]
  },
  {
   "cell_type": "code",
   "execution_count": 9,
   "id": "3c51a99b-6170-4156-a3ea-820b32a5f4c9",
   "metadata": {},
   "outputs": [],
   "source": [
    "###4. write a python program to create two threads. Thread one must print the list of squares and thread\n",
    "###two must print the list of cubes\n",
    "\n",
    "import threading\n",
    "import time"
   ]
  },
  {
   "cell_type": "code",
   "execution_count": 10,
   "id": "a75e63e8-d108-4a65-aca5-657dd44c6e47",
   "metadata": {},
   "outputs": [],
   "source": [
    "def sq():\n",
    "    for i in range(0,4):\n",
    "        a= i**2\n",
    "        print(f\"square of numbers - {a}\")\n",
    "    "
   ]
  },
  {
   "cell_type": "code",
   "execution_count": 11,
   "id": "7465136c-fc99-4826-8d4a-b6fe3a56783e",
   "metadata": {},
   "outputs": [],
   "source": [
    "def cube():\n",
    "    for i in range(0,4):\n",
    "        b = i**3\n",
    "        print(f\"cube of numbers - {b}\")"
   ]
  },
  {
   "cell_type": "code",
   "execution_count": 12,
   "id": "b1a9f125-732b-460c-97ae-0c4e91631697",
   "metadata": {},
   "outputs": [],
   "source": [
    "thread1 = threading.Thread(target=sq, args = ())\n",
    "thread2 = threading.Thread(target=cube, args=())"
   ]
  },
  {
   "cell_type": "code",
   "execution_count": 13,
   "id": "cd6daaa0-ba3d-469a-986c-945f8dea5bbc",
   "metadata": {},
   "outputs": [
    {
     "name": "stdout",
     "output_type": "stream",
     "text": [
      "square of numbers - 0\n",
      "square of numbers - 1\n",
      "square of numbers - 4\n",
      "square of numbers - 9\n",
      "cube of numbers - 0\n",
      "cube of numbers - 1\n",
      "cube of numbers - 8\n",
      "cube of numbers - 27\n"
     ]
    }
   ],
   "source": [
    "thread1.start()\n",
    "thread2.start()"
   ]
  },
  {
   "cell_type": "code",
   "execution_count": null,
   "id": "53247d3e-c05d-45ff-97e3-a4aa719106c7",
   "metadata": {},
   "outputs": [],
   "source": [
    "###5. State advantages and disadvantages of multithreading\n",
    "\n",
    "advantages - improved performace and concurrency of the program \n",
    "In some applications it is easier to code different remote procedure calls and conversations in separate threads than to manage them\n",
    "from the same thread.\n",
    "\n",
    "disadvantages - It is much harder to replicate an error in a multithreaded or multicontexted application than it\n",
    "is to do so in a single-threaded, single-contexted application. As a result, it is more difficult, in the former case, to identify and verify root causes\n",
    "when errors occur."
   ]
  },
  {
   "cell_type": "code",
   "execution_count": null,
   "id": "67b4f358-5046-4a48-a0fa-990529d374e8",
   "metadata": {},
   "outputs": [],
   "source": [
    "###6. Explain deadlocks and race conditions.\n",
    "- A race condition occurs when two threads use the same variable at a given time \n",
    "- In a deadlock, two processes are waiting and expecting the complementary process to complete the task which\n",
    "will stop the program from execution "
   ]
  }
 ],
 "metadata": {
  "kernelspec": {
   "display_name": "Python 3 (ipykernel)",
   "language": "python",
   "name": "python3"
  },
  "language_info": {
   "codemirror_mode": {
    "name": "ipython",
    "version": 3
   },
   "file_extension": ".py",
   "mimetype": "text/x-python",
   "name": "python",
   "nbconvert_exporter": "python",
   "pygments_lexer": "ipython3",
   "version": "3.10.8"
  }
 },
 "nbformat": 4,
 "nbformat_minor": 5
}
